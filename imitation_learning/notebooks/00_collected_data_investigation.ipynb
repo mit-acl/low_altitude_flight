{
 "cells": [
  {
   "cell_type": "markdown",
   "metadata": {},
   "source": [
    "### Investigate the collected trajectories. ###"
   ]
  },
  {
   "cell_type": "code",
   "execution_count": 20,
   "metadata": {},
   "outputs": [],
   "source": [
    "import numpy as np\n",
    "from numpy import genfromtxt\n",
    "import matplotlib.pyplot as plt\n",
    "import csv\n",
    "import os\n",
    "\n",
    "import open3d as o3d\n",
    "from PIL import Image\n",
    "%matplotlib widget"
   ]
  },
  {
   "cell_type": "markdown",
   "metadata": {},
   "source": [
    "Change the following path to where the expert trajectories are stored. "
   ]
  },
  {
   "cell_type": "code",
   "execution_count": 21,
   "metadata": {},
   "outputs": [],
   "source": [
    "expert_demo_dir = \"/home/yixuany/Workspace/LowAltitudeFlight/deliverables/low_altitude_flight/expert_demonstrations/trajectories\""
   ]
  },
  {
   "cell_type": "markdown",
   "metadata": {},
   "source": [
    "Change the following path to where the terrain point cloud is stored."
   ]
  },
  {
   "cell_type": "code",
   "execution_count": 22,
   "metadata": {},
   "outputs": [],
   "source": [
    "map_pcd = o3d.io.read_point_cloud(\"/home/yixuany/Workspace/LowAltitudeFlight/deliverables/low_altitude_flight/terrain/terrain_smooth.pcd\")"
   ]
  },
  {
   "cell_type": "markdown",
   "metadata": {},
   "source": [
    "Visualize expert path."
   ]
  },
  {
   "cell_type": "code",
   "execution_count": 23,
   "metadata": {},
   "outputs": [],
   "source": [
    "num=0\n",
    "states = genfromtxt(os.path.join(expert_demo_dir, f\"{num}_states.csv\"), delimiter=',')\n",
    "states = states[1:, :-1]\n",
    "# print(states.shape)\n",
    "path_point_cloud = o3d.geometry.PointCloud()\n",
    "path_point_cloud.points = o3d.utility.Vector3dVector(states[:, :3])\n",
    "path_point_cloud.paint_uniform_color([0, 1, 0])\n",
    "\n",
    "point_goal = o3d.geometry.TriangleMesh.create_sphere(radius=2.0, resolution=10)\n",
    "point_goal.translate(states[-1, :3]- point_goal.get_center())\n",
    "point_goal.paint_uniform_color([1, 0, 0])\n",
    "\n",
    "origin_frame = o3d.geometry.TriangleMesh.create_coordinate_frame(size=50.0)\n",
    "\n",
    "o3d.visualization.draw_geometries([origin_frame, map_pcd, path_point_cloud, point_goal])"
   ]
  }
 ],
 "metadata": {
  "kernelspec": {
   "display_name": "flight_env",
   "language": "python",
   "name": "python3"
  },
  "language_info": {
   "codemirror_mode": {
    "name": "ipython",
    "version": 3
   },
   "file_extension": ".py",
   "mimetype": "text/x-python",
   "name": "python",
   "nbconvert_exporter": "python",
   "pygments_lexer": "ipython3",
   "version": "3.8.10"
  }
 },
 "nbformat": 4,
 "nbformat_minor": 2
}
